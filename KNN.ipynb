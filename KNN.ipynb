{
 "cells": [
  {
   "cell_type": "markdown",
   "metadata": {},
   "source": [
    "## Importing Modules"
   ]
  },
  {
   "cell_type": "code",
   "execution_count": 15,
   "metadata": {},
   "outputs": [],
   "source": [
    "import pandas as pd\n",
    "import matplotlib.pyplot as plt\n",
    "from scipy import spatial\n",
    "from prepareDF import PrepareDF\n",
    "import operator\n",
    "import warnings\n",
    "warnings.filterwarnings('ignore')"
   ]
  },
  {
   "cell_type": "markdown",
   "metadata": {},
   "source": [
    "# 1) Data Preperation\n",
    "---"
   ]
  },
  {
   "cell_type": "markdown",
   "metadata": {},
   "source": [
    "## Functions to be used\n"
   ]
  },
  {
   "cell_type": "code",
   "execution_count": 16,
   "metadata": {},
   "outputs": [],
   "source": [
    "def valuesindexer(series, topN=0):\n",
    "    isList = isinstance(series.iloc[0],list)    #Check if series values are lists\n",
    "    valueList = []\n",
    "    for index, values in series.items():\n",
    "        if(isList):\n",
    "            if(topN): values = values[:topN-1]  #Limit to only top N Entries\n",
    "            for value in values:            \n",
    "                if value not in valueList:\n",
    "                    valueList.append(value)     #Iterate trough all uniqe enties to build indexed list\n",
    "        else: \n",
    "            value = values\n",
    "            if value not in valueList:\n",
    "                valueList.append(value)         #Iterate trough all  enties to build indexed list\n",
    "\n",
    "    #Reference Series for Genre Indexer\n",
    "    IndexRef = {}\n",
    "    for i, value in enumerate(valueList): IndexRef[i] = value\n",
    "    IndexRef = pd.Series(IndexRef)\n",
    "    return valueList, IndexRef\n",
    "\n",
    "def binarylistFormatter(check_list, list2):\n",
    "    binaryList = []                                                                    #Indexed (valuesindexer()[1] for keys) Binary-Formatted list of state if entry is present across columns\n",
    "    for value in list2:                                                                \n",
    "        if value in check_list:\n",
    "            binaryList.append(1)\n",
    "        else:\n",
    "            binaryList.append(0)\n",
    "    return binaryList\n",
    "\n",
    "def binarylistApplier(dataFrame, colReplaced, colName, topN=0):\n",
    "    valueslist = valuesindexer(dataFrame[colReplaced], topN)[0]                                #Get indexed list of uniqe values\n",
    "    dataFrame[colName] = dataFrame[colReplaced].apply(lambda x: binarylistFormatter(x, valueslist))   #Apply format as new column\n",
    "    dataFrame.drop(columns=colReplaced, inplace=True)                                          #Replace old column"
   ]
  },
  {
   "cell_type": "markdown",
   "metadata": {},
   "source": [
    "## Importing Cleaned and Prepared Dataset"
   ]
  },
  {
   "cell_type": "code",
   "execution_count": 17,
   "metadata": {},
   "outputs": [
    {
     "data": {
      "text/html": [
       "<div>\n",
       "<style scoped>\n",
       "    .dataframe tbody tr th:only-of-type {\n",
       "        vertical-align: middle;\n",
       "    }\n",
       "\n",
       "    .dataframe tbody tr th {\n",
       "        vertical-align: top;\n",
       "    }\n",
       "\n",
       "    .dataframe thead th {\n",
       "        text-align: right;\n",
       "    }\n",
       "</style>\n",
       "<table border=\"1\" class=\"dataframe\">\n",
       "  <thead>\n",
       "    <tr style=\"text-align: right;\">\n",
       "      <th></th>\n",
       "      <th>title</th>\n",
       "      <th>director</th>\n",
       "      <th>cast</th>\n",
       "      <th>rating</th>\n",
       "      <th>genres</th>\n",
       "    </tr>\n",
       "  </thead>\n",
       "  <tbody>\n",
       "    <tr>\n",
       "      <th>0</th>\n",
       "      <td>Ganglands</td>\n",
       "      <td>Julien Leclercq</td>\n",
       "      <td>[Sami Bouajila,  Tracy Gotoas,  Samuel Jouy,  ...</td>\n",
       "      <td>7.2</td>\n",
       "      <td>[Crime TV Shows,  International TV Shows,  TV ...</td>\n",
       "    </tr>\n",
       "    <tr>\n",
       "      <th>1</th>\n",
       "      <td>Midnight Mass</td>\n",
       "      <td>Mike Flanagan</td>\n",
       "      <td>[Kate Siegel,  Zach Gilford,  Hamish Linklater...</td>\n",
       "      <td>7.7</td>\n",
       "      <td>[TV Dramas,  TV Horror,  TV Mysteries]</td>\n",
       "    </tr>\n",
       "    <tr>\n",
       "      <th>2</th>\n",
       "      <td>My Little Pony: A New Generation</td>\n",
       "      <td>Robert Cullen, José Luis Ucha</td>\n",
       "      <td>[Vanessa Hudgens,  Kimiko Glenn,  James Marsde...</td>\n",
       "      <td>6.8</td>\n",
       "      <td>[Children &amp; Family Movies]</td>\n",
       "    </tr>\n",
       "    <tr>\n",
       "      <th>3</th>\n",
       "      <td>Sankofa</td>\n",
       "      <td>Haile Gerima</td>\n",
       "      <td>[Kofi Ghanaba,  Oyafunmike Ogunlano,  Alexandr...</td>\n",
       "      <td>7.0</td>\n",
       "      <td>[Dramas,  Independent Movies,  International M...</td>\n",
       "    </tr>\n",
       "    <tr>\n",
       "      <th>4</th>\n",
       "      <td>The Great British Baking Show</td>\n",
       "      <td>Andy Devonshire</td>\n",
       "      <td>[Mel Giedroyc,  Sue Perkins,  Mary Berry,  Pau...</td>\n",
       "      <td>8.6</td>\n",
       "      <td>[British TV Shows,  Reality TV]</td>\n",
       "    </tr>\n",
       "  </tbody>\n",
       "</table>\n",
       "</div>"
      ],
      "text/plain": [
       "                              title                       director  \\\n",
       "0                         Ganglands                Julien Leclercq   \n",
       "1                     Midnight Mass                  Mike Flanagan   \n",
       "2  My Little Pony: A New Generation  Robert Cullen, José Luis Ucha   \n",
       "3                           Sankofa                   Haile Gerima   \n",
       "4     The Great British Baking Show                Andy Devonshire   \n",
       "\n",
       "                                                cast  rating  \\\n",
       "0  [Sami Bouajila,  Tracy Gotoas,  Samuel Jouy,  ...     7.2   \n",
       "1  [Kate Siegel,  Zach Gilford,  Hamish Linklater...     7.7   \n",
       "2  [Vanessa Hudgens,  Kimiko Glenn,  James Marsde...     6.8   \n",
       "3  [Kofi Ghanaba,  Oyafunmike Ogunlano,  Alexandr...     7.0   \n",
       "4  [Mel Giedroyc,  Sue Perkins,  Mary Berry,  Pau...     8.6   \n",
       "\n",
       "                                              genres  \n",
       "0  [Crime TV Shows,  International TV Shows,  TV ...  \n",
       "1             [TV Dramas,  TV Horror,  TV Mysteries]  \n",
       "2                         [Children & Family Movies]  \n",
       "3  [Dramas,  Independent Movies,  International M...  \n",
       "4                    [British TV Shows,  Reality TV]  "
      ]
     },
     "execution_count": 17,
     "metadata": {},
     "output_type": "execute_result"
    }
   ],
   "source": [
    "MovieData = PrepareDF()\n",
    "MovieData.head()"
   ]
  },
  {
   "cell_type": "markdown",
   "metadata": {},
   "source": [
    "Formatting Data to Binary List for KNN"
   ]
  },
  {
   "cell_type": "code",
   "execution_count": 18,
   "metadata": {},
   "outputs": [
    {
     "data": {
      "text/html": [
       "<div>\n",
       "<style scoped>\n",
       "    .dataframe tbody tr th:only-of-type {\n",
       "        vertical-align: middle;\n",
       "    }\n",
       "\n",
       "    .dataframe tbody tr th {\n",
       "        vertical-align: top;\n",
       "    }\n",
       "\n",
       "    .dataframe thead th {\n",
       "        text-align: right;\n",
       "    }\n",
       "</style>\n",
       "<table border=\"1\" class=\"dataframe\">\n",
       "  <thead>\n",
       "    <tr style=\"text-align: right;\">\n",
       "      <th></th>\n",
       "      <th>title</th>\n",
       "      <th>rating</th>\n",
       "      <th>Genre</th>\n",
       "      <th>Cast</th>\n",
       "      <th>Director</th>\n",
       "    </tr>\n",
       "  </thead>\n",
       "  <tbody>\n",
       "    <tr>\n",
       "      <th>0</th>\n",
       "      <td>Ganglands</td>\n",
       "      <td>7.2</td>\n",
       "      <td>[1, 1, 1, 0, 0, 0, 0, 0, 0, 0, 0, 0, 0, 0, 0, ...</td>\n",
       "      <td>[1, 1, 1, 1, 0, 0, 0, 0, 0, 0, 0, 0, 0, 0, 0, ...</td>\n",
       "      <td>[1, 0, 0, 0, 0, 0, 0, 0, 0, 0, 0, 0, 0, 0, 0, ...</td>\n",
       "    </tr>\n",
       "    <tr>\n",
       "      <th>1</th>\n",
       "      <td>Midnight Mass</td>\n",
       "      <td>7.7</td>\n",
       "      <td>[0, 0, 0, 1, 1, 1, 0, 0, 0, 0, 0, 0, 0, 0, 0, ...</td>\n",
       "      <td>[0, 0, 0, 0, 1, 1, 1, 1, 0, 0, 0, 0, 0, 0, 0, ...</td>\n",
       "      <td>[0, 1, 0, 0, 0, 0, 0, 0, 0, 0, 0, 0, 0, 0, 0, ...</td>\n",
       "    </tr>\n",
       "    <tr>\n",
       "      <th>2</th>\n",
       "      <td>My Little Pony: A New Generation</td>\n",
       "      <td>6.8</td>\n",
       "      <td>[0, 0, 0, 0, 0, 0, 1, 0, 0, 0, 0, 0, 0, 0, 0, ...</td>\n",
       "      <td>[0, 0, 0, 0, 0, 0, 0, 0, 1, 1, 1, 1, 0, 0, 0, ...</td>\n",
       "      <td>[0, 0, 1, 0, 0, 0, 0, 0, 0, 0, 0, 0, 0, 0, 0, ...</td>\n",
       "    </tr>\n",
       "    <tr>\n",
       "      <th>3</th>\n",
       "      <td>Sankofa</td>\n",
       "      <td>7.0</td>\n",
       "      <td>[0, 0, 0, 0, 0, 0, 0, 1, 1, 1, 0, 0, 0, 0, 0, ...</td>\n",
       "      <td>[0, 0, 0, 0, 0, 0, 0, 0, 0, 0, 0, 0, 1, 1, 1, ...</td>\n",
       "      <td>[0, 0, 0, 1, 0, 0, 0, 0, 0, 0, 0, 0, 0, 0, 0, ...</td>\n",
       "    </tr>\n",
       "    <tr>\n",
       "      <th>4</th>\n",
       "      <td>The Great British Baking Show</td>\n",
       "      <td>8.6</td>\n",
       "      <td>[0, 0, 0, 0, 0, 0, 0, 0, 0, 0, 1, 1, 0, 0, 0, ...</td>\n",
       "      <td>[0, 0, 0, 0, 0, 0, 0, 0, 0, 0, 0, 0, 0, 0, 0, ...</td>\n",
       "      <td>[0, 0, 0, 0, 1, 0, 0, 0, 0, 0, 0, 0, 0, 0, 0, ...</td>\n",
       "    </tr>\n",
       "  </tbody>\n",
       "</table>\n",
       "</div>"
      ],
      "text/plain": [
       "                              title  rating  \\\n",
       "0                         Ganglands     7.2   \n",
       "1                     Midnight Mass     7.7   \n",
       "2  My Little Pony: A New Generation     6.8   \n",
       "3                           Sankofa     7.0   \n",
       "4     The Great British Baking Show     8.6   \n",
       "\n",
       "                                               Genre  \\\n",
       "0  [1, 1, 1, 0, 0, 0, 0, 0, 0, 0, 0, 0, 0, 0, 0, ...   \n",
       "1  [0, 0, 0, 1, 1, 1, 0, 0, 0, 0, 0, 0, 0, 0, 0, ...   \n",
       "2  [0, 0, 0, 0, 0, 0, 1, 0, 0, 0, 0, 0, 0, 0, 0, ...   \n",
       "3  [0, 0, 0, 0, 0, 0, 0, 1, 1, 1, 0, 0, 0, 0, 0, ...   \n",
       "4  [0, 0, 0, 0, 0, 0, 0, 0, 0, 0, 1, 1, 0, 0, 0, ...   \n",
       "\n",
       "                                                Cast  \\\n",
       "0  [1, 1, 1, 1, 0, 0, 0, 0, 0, 0, 0, 0, 0, 0, 0, ...   \n",
       "1  [0, 0, 0, 0, 1, 1, 1, 1, 0, 0, 0, 0, 0, 0, 0, ...   \n",
       "2  [0, 0, 0, 0, 0, 0, 0, 0, 1, 1, 1, 1, 0, 0, 0, ...   \n",
       "3  [0, 0, 0, 0, 0, 0, 0, 0, 0, 0, 0, 0, 1, 1, 1, ...   \n",
       "4  [0, 0, 0, 0, 0, 0, 0, 0, 0, 0, 0, 0, 0, 0, 0, ...   \n",
       "\n",
       "                                            Director  \n",
       "0  [1, 0, 0, 0, 0, 0, 0, 0, 0, 0, 0, 0, 0, 0, 0, ...  \n",
       "1  [0, 1, 0, 0, 0, 0, 0, 0, 0, 0, 0, 0, 0, 0, 0, ...  \n",
       "2  [0, 0, 1, 0, 0, 0, 0, 0, 0, 0, 0, 0, 0, 0, 0, ...  \n",
       "3  [0, 0, 0, 1, 0, 0, 0, 0, 0, 0, 0, 0, 0, 0, 0, ...  \n",
       "4  [0, 0, 0, 0, 1, 0, 0, 0, 0, 0, 0, 0, 0, 0, 0, ...  "
      ]
     },
     "execution_count": 18,
     "metadata": {},
     "output_type": "execute_result"
    }
   ],
   "source": [
    "binarylistApplier(MovieData, 'genres', 'Genre')\n",
    "binarylistApplier(MovieData, 'cast', 'Cast', 5)    # We only need to consider the actors that contributed the most in the movie, The dataset already contains the actors in order of their contribution\n",
    "#MovieData[MovieData['director']!='']\n",
    "binarylistApplier(MovieData, 'director', 'Director')\n",
    "MovieData.head()"
   ]
  },
  {
   "cell_type": "markdown",
   "metadata": {},
   "source": [
    "# 1) KNN Exploration\n",
    "---"
   ]
  },
  {
   "cell_type": "markdown",
   "metadata": {},
   "source": [
    "## Functions to be used\n"
   ]
  },
  {
   "cell_type": "code",
   "execution_count": 19,
   "metadata": {},
   "outputs": [],
   "source": [
    "def Similarity(dataFrame, movieId1, movieId2):\n",
    "    a = dataFrame.iloc[movieId1]\n",
    "    b = dataFrame.iloc[movieId2]\n",
    "    \n",
    "    genresA = a['Genre']\n",
    "    genresB = b['Genre']\n",
    "\n",
    "    genreDistance = spatial.distance.cosine(genresA, genresB)\n",
    "    scoreA = a['Cast']\n",
    "    scoreB = b['Cast']\n",
    "    scoreDistance = spatial.distance.cosine(scoreA, scoreB)\n",
    "    \n",
    "    directA = a['Director']\n",
    "    directB = b['Director']\n",
    "    directDistance = spatial.distance.cosine(directA, directB)\n",
    "\n",
    "    return genreDistance + directDistance + scoreDistance\n",
    "\n",
    "def predict_score(dataFrame, show):\n",
    "    name = show\n",
    "    new_movie = dataFrame[dataFrame['title'].str.contains(name)].iloc[0].to_frame().T\n",
    "\n",
    "    ind = dataFrame.index[dataFrame['title'] == name].tolist()[0]\n",
    "\n",
    "    def getNeighbors(baseMovie, K):\n",
    "        distances = []\n",
    "    \n",
    "        for index, movie in dataFrame.iterrows():\n",
    "            index = dataFrame.index[dataFrame['title'] == movie['title']].tolist()[0]\n",
    "            if movie['title'] != baseMovie['title'].values[0]:\n",
    "                dist = Similarity(dataFrame, index, ind)\n",
    "                distances.append((movie['title'], dist))\n",
    "    \n",
    "        distances.sort(key=operator.itemgetter(1))\n",
    "        neighbors = []\n",
    "    \n",
    "        for x in range(K):\n",
    "            neighbors.append(distances[x])\n",
    "        return neighbors\n",
    "    \n",
    "    K = 10\n",
    "    avgRating = 0\n",
    "    neighbors = getNeighbors(new_movie, K)\n",
    "    \n",
    "    for neighbor in neighbors:\n",
    "        neighbor_index = dataFrame.index[dataFrame['title'] == neighbor[0]].tolist()[0]\n",
    "        avgRating = avgRating+dataFrame.iloc[neighbor_index]['rating']\n",
    "\n",
    "    avgRating = avgRating/K\n",
    "    print('The predicted rating for %s is: %f' %(new_movie['title'].values[0],avgRating))\n",
    "    print('The actual rating for %s is %f' %(new_movie['title'].values[0],new_movie['rating']))\n",
    "\n",
    "    error = (abs(float(avgRating)-float(new_movie['rating']))/float(new_movie['rating']))*100\n",
    "\n",
    "    return error"
   ]
  },
  {
   "cell_type": "markdown",
   "metadata": {},
   "source": [
    "## Exploration"
   ]
  },
  {
   "cell_type": "code",
   "execution_count": 20,
   "metadata": {},
   "outputs": [
    {
     "name": "stdout",
     "output_type": "stream",
     "text": [
      "The predicted rating for Ganglands is: 6.380000\n",
      "The actual rating for Ganglands is 7.200000\n"
     ]
    },
    {
     "data": {
      "text/plain": [
       "11.388888888888893"
      ]
     },
     "execution_count": 20,
     "metadata": {},
     "output_type": "execute_result"
    }
   ],
   "source": [
    "predict_score(MovieData, 'Ganglands')"
   ]
  },
  {
   "cell_type": "markdown",
   "metadata": {},
   "source": [
    "Now we know that cast, director and genre can be used to predict the ratings quite accurately\n",
    "\n",
    "Now we will test different ML models to test which one is the best for our use case"
   ]
  }
 ],
 "metadata": {
  "kernelspec": {
   "display_name": "env",
   "language": "python",
   "name": "python3"
  },
  "language_info": {
   "codemirror_mode": {
    "name": "ipython",
    "version": 3
   },
   "file_extension": ".py",
   "mimetype": "text/x-python",
   "name": "python",
   "nbconvert_exporter": "python",
   "pygments_lexer": "ipython3",
   "version": "3.9.13"
  }
 },
 "nbformat": 4,
 "nbformat_minor": 2
}
